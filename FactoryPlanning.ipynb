{
 "cells": [
  {
   "cell_type": "code",
   "execution_count": 60,
   "metadata": {},
   "outputs": [],
   "source": [
    "import gurobipy as gp\n",
    "from gurobipy import GRB"
   ]
  },
  {
   "cell_type": "markdown",
   "metadata": {},
   "source": [
    "# Factory Planning I:\n"
   ]
  },
  {
   "cell_type": "code",
   "execution_count": 65,
   "metadata": {},
   "outputs": [
    {
     "data": {
      "text/plain": [
       "384"
      ]
     },
     "execution_count": 65,
     "metadata": {},
     "output_type": "execute_result"
    }
   ],
   "source": [
    "\n",
    "products = [\"Prod1\", \"Prod2\", \"Prod3\", \"Prod4\", \"Prod5\", \"Prod6\", \"Prod7\"]\n",
    "machines = [\"grinder\", \"vertDrill\", \"horiDrill\", \"borer\", \"planer\"]\n",
    "time_periods = [\"January\", \"February\", \"March\", \"April\", \"May\", \"June\"]\n",
    "\n",
    "profit_contribution = {\"Prod1\":10, \"Prod2\":6, \"Prod3\":8, \"Prod4\":4, \"Prod5\":11, \"Prod6\":9, \"Prod7\":3}\n",
    "\n",
    "time_table = {\n",
    "    \"grinder\": {    \"Prod1\": 0.5, \"Prod2\": 0.7, \"Prod5\": 0.3,\n",
    "                    \"Prod6\": 0.2, \"Prod7\": 0.5 },\n",
    "    \"vertDrill\": {  \"Prod1\": 0.1, \"Prod2\": 0.2, \"Prod4\": 0.3,\n",
    "                    \"Prod6\": 0.6 },\n",
    "    \"horiDrill\": {  \"Prod1\": 0.2, \"Prod3\": 0.8, \"Prod7\": 0.6 },\n",
    "    \"borer\": {      \"Prod1\": 0.05,\"Prod2\": 0.03,\"Prod4\": 0.07,\n",
    "                    \"Prod5\": 0.1, \"Prod7\": 0.08 },\n",
    "    \"planer\": {     \"Prod3\": 0.01,\"Prod5\": 0.05,\"Prod7\": 0.05 }\n",
    "}\n",
    "\n",
    "\n",
    "# number of machines down\n",
    "down = {(\"January\",\"grinder\"): 1, (\"February\", \"horiDrill\"): 2, (\"March\", \"borer\"): 1,\n",
    "        (\"April\", \"vertDrill\"): 1, (\"May\", \"grinder\"): 1, (\"May\", \"vertDrill\"): 1,\n",
    "        (\"June\", \"planer\"): 1, (\"June\", \"horiDrill\"): 1}\n",
    "\n",
    "# number of each machine available\n",
    "qMachine = {\"grinder\":4, \"vertDrill\":2, \"horiDrill\":3, \"borer\":1, \"planer\":1} \n",
    "\n",
    "# market limitation of sells\n",
    "upper = {\n",
    "    (\"January\", \"Prod1\") : 500,\n",
    "    (\"January\", \"Prod2\") : 1000,\n",
    "    (\"January\", \"Prod3\") : 300,\n",
    "    (\"January\", \"Prod4\") : 300,\n",
    "    (\"January\", \"Prod5\") : 800,\n",
    "    (\"January\", \"Prod6\") : 200,\n",
    "    (\"January\", \"Prod7\") : 100,\n",
    "    (\"February\", \"Prod1\") : 600,\n",
    "    (\"February\", \"Prod2\") : 500,\n",
    "    (\"February\", \"Prod3\") : 200,\n",
    "    (\"February\", \"Prod4\") : 0,\n",
    "    (\"February\", \"Prod5\") : 400,\n",
    "    (\"February\", \"Prod6\") : 300,\n",
    "    (\"February\", \"Prod7\") : 150,\n",
    "    (\"March\", \"Prod1\") : 300,\n",
    "    (\"March\", \"Prod2\") : 600,\n",
    "    (\"March\", \"Prod3\") : 0,\n",
    "    (\"March\", \"Prod4\") : 0,\n",
    "    (\"March\", \"Prod5\") : 500,\n",
    "    (\"March\", \"Prod6\") : 400,\n",
    "    (\"March\", \"Prod7\") : 100,\n",
    "    (\"April\", \"Prod1\") : 200,\n",
    "    (\"April\", \"Prod2\") : 300,\n",
    "    (\"April\", \"Prod3\") : 400,\n",
    "    (\"April\", \"Prod4\") : 500,\n",
    "    (\"April\", \"Prod5\") : 200,\n",
    "    (\"April\", \"Prod6\") : 0,\n",
    "    (\"April\", \"Prod7\") : 100,\n",
    "    (\"May\", \"Prod1\") : 0,\n",
    "    (\"May\", \"Prod2\") : 100,\n",
    "    (\"May\", \"Prod3\") : 500,\n",
    "    (\"May\", \"Prod4\") : 100,\n",
    "    (\"May\", \"Prod5\") : 1000,\n",
    "    (\"May\", \"Prod6\") : 300,\n",
    "    (\"May\", \"Prod7\") : 0,\n",
    "    (\"June\", \"Prod1\") : 500,\n",
    "    (\"June\", \"Prod2\") : 500,\n",
    "    (\"June\", \"Prod3\") : 100,\n",
    "    (\"June\", \"Prod4\") : 300,\n",
    "    (\"June\", \"Prod5\") : 1100,\n",
    "    (\"June\", \"Prod6\") : 500,\n",
    "    (\"June\", \"Prod7\") : 60,\n",
    "}\n",
    "\n",
    "\n",
    "storeCost = 0.5\n",
    "storeCapacity = 100\n",
    "endStock = 50\n",
    "hoursPerMonth = 2*8*24 #each month has 24 working days.\n"
   ]
  },
  {
   "cell_type": "markdown",
   "metadata": {},
   "source": [
    "##  Single Period Formulation:\n",
    "\n",
    "We're dealing with a complex problem, lets try to solve a smaller sub-problem first. \n",
    "Lets just try to figure out the best use of machine hours for just january. We'll then mix in temporal elements of this question. \n",
    "\n",
    "\n",
    "\n",
    "\n",
    "The Objective Function is the calculation of profit: the number of products $p$ we choose to sell at their price, minus the cost of storing the amount of product $p$ we choose to store.  \n",
    "\n",
    "$$max \\sum_{p \\in Products} Profit_p \\cdot Sell_p - \\sum_{p \\in Products}costStorage \\cdot Store_p$$\n",
    "\n",
    "We have a lot of decision variables:\n",
    "\n",
    "1. $Sell_p$ represents the amount we choose to sell of product $p$\n",
    "2. $Store_p$ represents the amount we choose to store of product $p$\n",
    "3. $Make_p$ represents the amount of product $p$ we choose to make\n",
    "\n",
    "We're going to let $Profit_p$ represent the contribution to profit product $p$ yields, and $machine_{i,p}$ represents the amount of hours machine $i$ needs to product product $p$. \n",
    "\n",
    "Our first constraint regards the first three decision variables. \n",
    "$$Store_p = Make_p - Sell_p$$\n",
    "\n",
    "Second, we create a group of constraints for each machine. Given that we have five types of machines, each with a coefficient of how much it takes to make something per hour, the most each machine can work is the maximum hours-- and if all of those machines are working simotenously, then the most all of those machines can work is the number of machines * maximum hours. \n",
    "This follows with the following constraint, for each type of machine $m$:\n",
    "$$ \\sum_{ p \\in \\{products\\}} p \\cdot m_{coeff} \\leq Num_m \\cdot maxhours $$\n",
    "\n",
    "where necessaryMachines(p) is a function that returns the necessary machines to create product $p$.\n",
    "\n",
    "Third, for each $p$, we initialize the marketing limitations:\n",
    "$$ Sell_p \\leq MarketLimit_p$$\n",
    "\n",
    "Fourth, for each $p$, we add the storage limitations:\n",
    "$$ Store_p \\leq 100$$\n",
    "\n",
    "Finally, we need to ensure that the total hours across all machines is less than or equal to the maximum hours the factory is open to work:\n",
    "$$\\sum_{i \\in all machines} hours_i  \\leq MaxHours$$\n",
    "\n"
   ]
  },
  {
   "cell_type": "code",
   "execution_count": 62,
   "metadata": {},
   "outputs": [
    {
     "data": {
      "text/plain": [
       "[(<gurobi.Var grinder_i_0 (value 0.0)>, 0.5),\n",
       " (<gurobi.Var grinder_i_1 (value 1.0)>, 0.5),\n",
       " (<gurobi.Var grinder_i_2 (value 2.0)>, 0.5),\n",
       " (<gurobi.Var grinder_i_3 (value 378.0)>, 0.5),\n",
       " (<gurobi.Var vertDrill_i_0 (value 0.0)>, 0.1),\n",
       " (<gurobi.Var horiDrill_i_0 (value 0.0)>, 0.2),\n",
       " (<gurobi.Var horiDrill_i_1 (value 1.0)>, 0.2),\n",
       " (<gurobi.Var horiDrill_i_2 (value 2.0)>, 0.2),\n",
       " (<gurobi.Var borer_i_0 (value 0.0)>, 0.05)]"
      ]
     },
     "execution_count": 62,
     "metadata": {},
     "output_type": "execute_result"
    }
   ],
   "source": [
    "#helper function\n",
    "def calculate_availible_machines(input_month):\n",
    "    q_machine = {\"grinder\":4, \"vertDrill\":2, \"horiDrill\":3, \"borer\":1, \"planer\":1} \n",
    "\n",
    "    for month,machine in down.keys():\n",
    "        if month == input_month:\n",
    "            for qmach in q_machine.keys():\n",
    "                if qmach == machine:\n",
    "                    q_machine[qmach] -= down[(month,machine)]\n",
    "    return q_machine\n"
   ]
  },
  {
   "cell_type": "code",
   "execution_count": 86,
   "metadata": {},
   "outputs": [
    {
     "name": "stdout",
     "output_type": "stream",
     "text": [
      "Gurobi Optimizer version 9.0.1 build v9.0.1rc0 (linux64)\n",
      "Optimize a model with 26 rows, 21 columns and 55 nonzeros\n",
      "Model fingerprint: 0x620e1684\n",
      "Coefficient statistics:\n",
      "  Matrix range     [1e-02, 1e+00]\n",
      "  Objective range  [5e-01, 1e+01]\n",
      "  Bounds range     [0e+00, 0e+00]\n",
      "  RHS range        [1e+02, 2e+03]\n",
      "Presolve removed 26 rows and 21 columns\n",
      "Presolve time: 0.01s\n",
      "Presolve: All rows and columns removed\n",
      "Iteration    Objective       Primal Inf.    Dual Inf.      Time\n",
      "       0    1.1500000e+04   0.000000e+00   0.000000e+00      0s\n",
      "\n",
      "Solved in 0 iterations and 0.01 seconds\n",
      "Optimal objective  1.150000000e+04\n"
     ]
    }
   ],
   "source": [
    "current_month = \"April\"\n",
    "\n",
    "try:\n",
    "    m = gp.Model()\n",
    "    sell = m.addVars(products,vtype=GRB.CONTINUOUS, name='Sell')\n",
    "    store = m.addVars(products,vtype=GRB.CONTINUOUS, name='Store')\n",
    "    make = m.addVars(products,vtype=GRB.CONTINUOUS, name='Make')\n",
    "    \n",
    "    total_machines_availible = calculate_availible_machines(current_month)\n",
    "\n",
    "    \n",
    "    \n",
    "    m.update()\n",
    "    #profit calc\n",
    "    obj = sell.prod(profit_contribution) - storeCost *store.sum() \n",
    "    m.setObjective(obj,GRB.MAXIMIZE)\n",
    "    \n",
    "    storeConstr = m.addConstrs(store[prod] == make[prod] - sell[prod] for prod in products)\n",
    "    \n",
    "\n",
    "    m.addConstrs(sell[p] <= upper[(current_month,p)] for p in products)\n",
    "    \n",
    "    m.addConstrs(store[p] <= storeCapacity for p in products)\n",
    "    \n",
    "    for machine in time_table.keys():\n",
    "        machine_multiples = []\n",
    "        for prod in time_table[machine].keys():\n",
    "            if prod in make.keys():\n",
    "                machine_multiples.append( (time_table[machine][prod], make[prod]))\n",
    "        m.addConstr( gp.quicksum([x[0]*x[1] for x in machine_multiples]) <= qMachine[machine] *hoursPerMonth)\n",
    "    \n",
    "    m.update()\n",
    "    m.optimize()\n",
    "    \n",
    "    \n",
    "    \n",
    "except gp.GurobiError as e:\n",
    "    print('Error code ' + str(e.errno) + \": \" + str(e))\n",
    "\n",
    "\n",
    "\n",
    "\n"
   ]
  },
  {
   "cell_type": "code",
   "execution_count": 87,
   "metadata": {},
   "outputs": [
    {
     "name": "stdout",
     "output_type": "stream",
     "text": [
      "Sell[Prod1] : 200.0\n",
      "Sell[Prod2] : 300.0\n",
      "Sell[Prod3] : 400.0\n",
      "Sell[Prod4] : 500.0\n",
      "Sell[Prod5] : 200.0\n",
      "Sell[Prod6] : 0.0\n",
      "Sell[Prod7] : 100.0\n",
      "Store[Prod1] : 0.0\n",
      "Store[Prod2] : 0.0\n",
      "Store[Prod3] : 0.0\n",
      "Store[Prod4] : 0.0\n",
      "Store[Prod5] : 0.0\n",
      "Store[Prod6] : 0.0\n",
      "Store[Prod7] : 0.0\n",
      "Make[Prod1] : 200.0\n",
      "Make[Prod2] : 300.0\n",
      "Make[Prod3] : 400.0\n",
      "Make[Prod4] : 500.0\n",
      "Make[Prod5] : 200.0\n",
      "Make[Prod6] : 0.0\n",
      "Make[Prod7] : 100.0\n"
     ]
    }
   ],
   "source": [
    "for i in range(len(m.getVars())):\n",
    "    print(f'{m.getVars()[i].VarName} : {m.X[i]}')"
   ]
  },
  {
   "cell_type": "markdown",
   "metadata": {},
   "source": [
    "It seems that for the single period problem, we make only as much as we need to sell. This cuts down costs. But what if the marketing limitations for next month exceed our capacity to make things next month? How could we make an algorithm that can optimially schedule the production of our products with respect to time?"
   ]
  },
  {
   "cell_type": "markdown",
   "metadata": {},
   "source": [
    "## Multi-period formulation:\n",
    "Adding in time increases the complexity of this problem, but still keeps it within polynomial time, as it is still a linear program. \n",
    "\n",
    "Our objective function is to maximize profit in the given time period (six months), which leads to its mathematical formulation:\n",
    "$$\\sum_t \\sum_{p \\in \\{products\\}} (Sell^{(t)}_p - 0.5 Store^{(t)}_p) $$\n",
    "for all t time periods.\n",
    "\n",
    "Our decision variables are similiar-- we decide how much to make, store, and sell, but within the context of a specific month.\n",
    "1. $make^{(t)}_p$ represents how much product $p$ is made at time $t$\n",
    "2. $store^{(t)}_p$ represents how much product $p$ is stored after selling and making $p$ at time $t$\n",
    "3. $sell^{(t)}_p$ represents how much product $p$ is sold at time $t$\n",
    "\n",
    "We start with zero of every product in storage. Therefore, for each $t$, we are able to relate each month through linking constraints:\n",
    "$$ store^{(t)}_p = make^{(t)}_p + store^{(t-1)}_p - sell^{(t)}_p$$\n",
    "In english, how much we choose to store at time $t$ is the sum of how much of $p$ we had in storage and how much of product $p$ we chose to make minus the amount of $p$ we chose to sell.\n",
    "\n",
    "As the products themselves don't change, the coefficients of each of the products dont change either. However, the production constraints of each of the machines changes as some machines are down for maintenance each month. Moreover, how much we choose to make each month should not only depend on how much we can sell, but also on what machines are down each month. Therefore, this leads to the following constraint:\n",
    "\n"
   ]
  },
  {
   "cell_type": "code",
   "execution_count": 80,
   "metadata": {},
   "outputs": [
    {
     "data": {
      "text/plain": [
       "['Prod1', 'Prod2', 'Prod3', 'Prod4', 'Prod5', 'Prod6', 'Prod7']"
      ]
     },
     "execution_count": 80,
     "metadata": {},
     "output_type": "execute_result"
    }
   ],
   "source": []
  },
  {
   "cell_type": "code",
   "execution_count": null,
   "metadata": {},
   "outputs": [],
   "source": []
  }
 ],
 "metadata": {
  "kernelspec": {
   "display_name": "Python 3",
   "language": "python",
   "name": "python3"
  },
  "language_info": {
   "codemirror_mode": {
    "name": "ipython",
    "version": 3
   },
   "file_extension": ".py",
   "mimetype": "text/x-python",
   "name": "python",
   "nbconvert_exporter": "python",
   "pygments_lexer": "ipython3",
   "version": "3.7.6"
  }
 },
 "nbformat": 4,
 "nbformat_minor": 4
}
